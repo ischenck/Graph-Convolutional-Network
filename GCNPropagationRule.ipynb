{
 "cells": [
  {
   "cell_type": "markdown",
   "metadata": {},
   "source": [
    "### GCN Propagation Rule"
   ]
  },
  {
   "cell_type": "code",
   "execution_count": 1,
   "metadata": {},
   "outputs": [],
   "source": [
    "import numpy as np\n",
    "import scipy.sparse as sp\n",
    "import networkx as nx"
   ]
  },
  {
   "cell_type": "markdown",
   "metadata": {},
   "source": [
    "We will be showing how the propagation rule works on this graph:\n",
    "\n",
    "\n",
    "![graph](graph.png)"
   ]
  },
  {
   "cell_type": "markdown",
   "metadata": {},
   "source": [
    "Adjacency matrix $A \\in \\mathbb{R}^{N x N}$ where $N$ is the number of nodes in a graph"
   ]
  },
  {
   "cell_type": "code",
   "execution_count": 2,
   "metadata": {},
   "outputs": [
    {
     "name": "stdout",
     "output_type": "stream",
     "text": [
      "[[0. 1. 0. 0.]\n",
      " [1. 0. 1. 1.]\n",
      " [0. 1. 0. 1.]\n",
      " [0. 1. 1. 0.]]\n"
     ]
    }
   ],
   "source": [
    "A = np.matrix([\n",
    "    [0,1,0,0],\n",
    "    [1,0,1,1],\n",
    "    [0,1,0,1],\n",
    "    [0,1,1,0]],\n",
    "    dtype=float\n",
    ")\n",
    "\n",
    "print(A)"
   ]
  },
  {
   "cell_type": "markdown",
   "metadata": {},
   "source": [
    "Feature matrix $X \\in \\mathbb{R}^{N x C}$ where $C$ is the number of features per node"
   ]
  },
  {
   "cell_type": "code",
   "execution_count": 3,
   "metadata": {},
   "outputs": [
    {
     "name": "stdout",
     "output_type": "stream",
     "text": [
      "[[ 0.  0.]\n",
      " [ 1. -1.]\n",
      " [ 2. -2.]\n",
      " [ 3. -3.]]\n"
     ]
    }
   ],
   "source": [
    "X = np.matrix([[i, -i] for i in range(A.shape[0])], dtype=float)\n",
    "print(X)"
   ]
  },
  {
   "cell_type": "markdown",
   "metadata": {},
   "source": [
    "Multiplying $A$ by $X$ results in every node containing the sum of its neighbors features"
   ]
  },
  {
   "cell_type": "code",
   "execution_count": 4,
   "metadata": {},
   "outputs": [
    {
     "name": "stdout",
     "output_type": "stream",
     "text": [
      "[[ 1. -1.]\n",
      " [ 5. -5.]\n",
      " [ 4. -4.]\n",
      " [ 3. -3.]]\n"
     ]
    }
   ],
   "source": [
    "Z = A * X\n",
    "print(Z)"
   ]
  },
  {
   "cell_type": "markdown",
   "metadata": {},
   "source": [
    "Because $A$ does not include self-loops, no node in $Z$ contains its original data.\n",
    "To fix this, add an identity matrix to $A$, resulting in $\\tilde{A}$"
   ]
  },
  {
   "cell_type": "code",
   "execution_count": 5,
   "metadata": {},
   "outputs": [
    {
     "name": "stdout",
     "output_type": "stream",
     "text": [
      "[[1. 1. 0. 0.]\n",
      " [1. 1. 1. 1.]\n",
      " [0. 1. 1. 1.]\n",
      " [0. 1. 1. 1.]]\n"
     ]
    }
   ],
   "source": [
    "I = np.matrix(np.eye(A.shape[0]))\n",
    "A_self = A + I\n",
    "print(A_self)"
   ]
  },
  {
   "cell_type": "markdown",
   "metadata": {},
   "source": [
    "Now multiplying $\\tilde{A}$ by $X$ includes each node's original data"
   ]
  },
  {
   "cell_type": "code",
   "execution_count": 6,
   "metadata": {},
   "outputs": [
    {
     "name": "stdout",
     "output_type": "stream",
     "text": [
      "[[ 1. -1.]\n",
      " [ 6. -6.]\n",
      " [ 6. -6.]\n",
      " [ 6. -6.]]\n"
     ]
    }
   ],
   "source": [
    "Z = A_self * X\n",
    "print(Z)"
   ]
  },
  {
   "cell_type": "markdown",
   "metadata": {},
   "source": [
    "Instead of summing all of a node's neighbors features with its own, we want to generate an average of sorts.\n",
    "To do so, first we calculate the inverse square root of the diagonal degree matrix of $A$: $\\tilde{D}^{-\\frac{1}{2}}$"
   ]
  },
  {
   "cell_type": "code",
   "execution_count": 7,
   "metadata": {},
   "outputs": [
    {
     "name": "stdout",
     "output_type": "stream",
     "text": [
      "degree matrix\n",
      "[[2. 0. 0. 0.]\n",
      " [0. 4. 0. 0.]\n",
      " [0. 0. 3. 0.]\n",
      " [0. 0. 0. 3.]]\n",
      "inverse square root degree matrix (D^-1/2)\n",
      "[[0.70710678 0.         0.         0.        ]\n",
      " [0.         0.5        0.         0.        ]\n",
      " [0.         0.         0.57735027 0.        ]\n",
      " [0.         0.         0.         0.57735027]]\n"
     ]
    }
   ],
   "source": [
    "degrees = np.array(A_self.sum(1))\n",
    "print(\"degree matrix\")\n",
    "diag_deg_mx = sp.diags(degrees.flatten()).todense()\n",
    "print(diag_deg_mx)\n",
    "\n",
    "deg_inv_sqrt = np.power(degrees, -0.5).flatten()\n",
    "deg_inv_sqrt[np.isinf(deg_inv_sqrt)] = 0\n",
    "diag_deg_mx_inv_sqrt = sp.diags(deg_inv_sqrt)\n",
    "print(\"inverse square root degree matrix (D^-1/2)\")\n",
    "print(diag_deg_mx_inv_sqrt.todense())"
   ]
  },
  {
   "cell_type": "markdown",
   "metadata": {},
   "source": [
    "Then symmetrically normalize $\\tilde{A}$:\n",
    "\n",
    "$\\hat{A} = \\tilde{D}^{-\\frac{1}{2}} \\tilde{A} \\tilde{D}^{-\\frac{1}{2}}$"
   ]
  },
  {
   "cell_type": "code",
   "execution_count": 8,
   "metadata": {},
   "outputs": [
    {
     "name": "stdout",
     "output_type": "stream",
     "text": [
      "[[0.5        0.35355339 0.         0.        ]\n",
      " [0.35355339 0.25       0.28867513 0.28867513]\n",
      " [0.         0.28867513 0.33333333 0.33333333]\n",
      " [0.         0.28867513 0.33333333 0.33333333]]\n"
     ]
    }
   ],
   "source": [
    "sym_norm_A = diag_deg_mx_inv_sqrt * A_self * diag_deg_mx_inv_sqrt\n",
    "print(sym_norm_A)"
   ]
  },
  {
   "cell_type": "markdown",
   "metadata": {},
   "source": [
    "Now multiplying $\\hat{A}$ by $X$ results in each node containing a weighted average of its and its neighbors features."
   ]
  },
  {
   "cell_type": "code",
   "execution_count": 9,
   "metadata": {},
   "outputs": [
    {
     "name": "stdout",
     "output_type": "stream",
     "text": [
      "[[ 0.35355339 -0.35355339]\n",
      " [ 1.69337567 -1.69337567]\n",
      " [ 1.9553418  -1.9553418 ]\n",
      " [ 1.9553418  -1.9553418 ]]\n"
     ]
    }
   ],
   "source": [
    "Z = sym_norm_A * X\n",
    "print(Z)"
   ]
  }
 ],
 "metadata": {
  "kernelspec": {
   "display_name": "Python 3",
   "language": "python",
   "name": "python3"
  },
  "language_info": {
   "codemirror_mode": {
    "name": "ipython",
    "version": 3
   },
   "file_extension": ".py",
   "mimetype": "text/x-python",
   "name": "python",
   "nbconvert_exporter": "python",
   "pygments_lexer": "ipython3",
   "version": "3.7.0"
  }
 },
 "nbformat": 4,
 "nbformat_minor": 2
}
